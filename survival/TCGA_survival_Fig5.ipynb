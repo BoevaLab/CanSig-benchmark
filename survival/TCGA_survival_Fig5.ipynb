{
 "cells": [
  {
   "cell_type": "code",
   "execution_count": 221,
   "id": "6b73ec4a",
   "metadata": {},
   "outputs": [],
   "source": [
    "import pandas as pd\n",
    "import numpy as np\n",
    "import scanpy as sc"
   ]
  },
  {
   "cell_type": "code",
   "execution_count": 222,
   "id": "d7844d1b",
   "metadata": {},
   "outputs": [],
   "source": [
    "import seaborn as sns\n",
    "import matplotlib.pyplot as plt"
   ]
  },
  {
   "cell_type": "code",
   "execution_count": 223,
   "id": "f5fe0095",
   "metadata": {},
   "outputs": [],
   "source": [
    "from lifelines import CoxPHFitter"
   ]
  },
  {
   "cell_type": "code",
   "execution_count": 224,
   "id": "474f4916",
   "metadata": {},
   "outputs": [],
   "source": [
    "from scipy.stats import kruskal\n",
    "from statsmodels.stats.multitest import multipletests"
   ]
  },
  {
   "cell_type": "code",
   "execution_count": 225,
   "id": "c2edf5b1",
   "metadata": {},
   "outputs": [],
   "source": [
    "import pathlib as pl\n",
    "import os"
   ]
  },
  {
   "cell_type": "code",
   "execution_count": 226,
   "id": "960f7c09",
   "metadata": {},
   "outputs": [],
   "source": [
    "from typing import Dict, List"
   ]
  },
  {
   "cell_type": "code",
   "execution_count": 227,
   "id": "bd5e4560",
   "metadata": {},
   "outputs": [],
   "source": [
    "def pretty_ax(ax):\n",
    "    ax.spines['right'].set_visible(False)\n",
    "    ax.spines['top'].set_visible(False)\n",
    "    ax.spines[\"bottom\"].set_linewidth(1.5)\n",
    "    ax.spines[\"left\"].set_linewidth(1.5)"
   ]
  },
  {
   "cell_type": "markdown",
   "id": "6fbb8f67",
   "metadata": {},
   "source": [
    "# Define paths"
   ]
  },
  {
   "cell_type": "code",
   "execution_count": 228,
   "id": "f1e87c6a",
   "metadata": {},
   "outputs": [],
   "source": [
    "benchmark_results_dir = pl.Path(\"benchmark_survival_results/\")\n",
    "benchmark_results_dir.mkdir(exist_ok=True)\n",
    "benchmark_pred_results_dir = pl.Path(\"benchmark_pred_results/\")\n",
    "benchmark_pred_results_dir.mkdir(exist_ok=True)"
   ]
  },
  {
   "cell_type": "code",
   "execution_count": 229,
   "id": "5c02aa9b",
   "metadata": {},
   "outputs": [],
   "source": [
    "path_tcga = pl.Path(\"data/raw_TCGA_data\")\n",
    "\n",
    "path_tcga_survival = pl.Path(\"data/Survival_SupplementalTable_S1_20171025_xena_sp\")\n",
    "\n",
    "path_tcga_phenotypes = pl.Path(\"data/raw_TCGA_data\")\n",
    "\n",
    "path_tcga_purity = pl.Path(\"data/tumor_purity.csv\")\n",
    "path_tcga_purity_estimate = pl.Path(\"data/tumor_purity_ESTIMATE.csv\")\n",
    "\n",
    "gencode_path = pl.Path(\"data/gencode_mapping_table.csv\")"
   ]
  },
  {
   "cell_type": "markdown",
   "id": "40aa74b4",
   "metadata": {},
   "source": []
  },
  {
   "cell_type": "code",
   "execution_count": 230,
   "id": "e68712c5",
   "metadata": {},
   "outputs": [],
   "source": [
    "\n",
    "cancer_tcga_name = \"GBM\""
   ]
  },
  {
   "cell_type": "markdown",
   "id": "78b6d733",
   "metadata": {},
   "source": [
    "# Download data"
   ]
  },
  {
   "cell_type": "code",
   "execution_count": 231,
   "id": "bd9dcf76",
   "metadata": {},
   "outputs": [],
   "source": [
    "clin_predictive = [\"primary_therapy_outcome_success\",\"pathologic_N\"]"
   ]
  },
  {
   "cell_type": "code",
   "execution_count": 232,
   "id": "36bb53a1",
   "metadata": {},
   "outputs": [],
   "source": [
    "# gencode mapping\n",
    "gencode = pd.read_csv(\"data/gencode_mapping_table.csv\",index_col=0)"
   ]
  },
  {
   "cell_type": "code",
   "execution_count": 233,
   "id": "7b7fa82c",
   "metadata": {},
   "outputs": [],
   "source": [
    "# FPKM UQ expression\n",
    "tcga_expr = pd.read_csv(path_tcga / f\"TCGA-{cancer_tcga_name}.htseq_fpkm-uq.tsv\",sep=\"\\t\",index_col=0).T\n",
    "\n",
    "tcga_expr.columns = tcga_expr.columns.str.split(\".\").str[0]\n",
    "tcga_expr = tcga_expr.rename(columns=gencode[\"gene_name\"])\n",
    "tcga_expr = tcga_expr.loc[:,~tcga_expr.columns.str.startswith(\"ENSG\")]\n",
    "tcga_expr.index = tcga_expr.index.str[:-1]"
   ]
  },
  {
   "cell_type": "code",
   "execution_count": 234,
   "id": "5614f163",
   "metadata": {},
   "outputs": [],
   "source": [
    "# Survival and clinical info\n",
    "tcga_surv = pd.read_csv(path_tcga_survival, sep=\"\\t\",index_col=0)\n",
    "\n",
    "age = tcga_surv[\"age_at_initial_pathologic_diagnosis\"]\n",
    "age = (age - age.min())/(age.max() - age.min())\n",
    "age.name = \"Age\"\n",
    "\n",
    "\n",
    "\n",
    "stage_mapping = {\"Stage I\": 1, \"Stage IB\": 1, \"Stage IA\": 1,\"I/II NOS\": 1,\"IS\": 1,\n",
    "                 \"Stage II\": 2, \"Stage IIA\": 2, \"Stage IIC\": 2,\n",
    "                 \"Stage IIB\": 2, \"Stage IIC\": 2,  \n",
    "                 \"Stage III\": 3, \"Stage IIIA\": 3, \"Stage IIIB\": 3, \"Stage IIIC\": 3,\n",
    "                 \"Stage IV\": 4, \"Stage IVA\": 4, \"Stage IVB\": 4, \"Stage IVC\": 4,\n",
    "                 \"[Discrepancy]\": np.nan, \"Stage X\": np.nan,\"Stage 0\": np.nan, \"[Unknown]\": np.nan}\n",
    "\n",
    "stage = tcga_surv[\"ajcc_pathologic_tumor_stage\"].replace(stage_mapping)\n",
    "stage.name = \"Stage\"\n",
    "\n",
    "surv_info = tcga_surv[[\"OS\",\"OS.time\"]].dropna()"
   ]
  },
  {
   "cell_type": "code",
   "execution_count": 235,
   "id": "53442a1c",
   "metadata": {},
   "outputs": [],
   "source": [
    "raw_clinical = pd.read_csv(path_tcga_phenotypes / f\"TCGA-{cancer_tcga_name}.GDC_phenotype.tsv\",sep=\"\\t\").set_index(\"submitter_id.samples\")\n",
    "\n",
    "raw_clinical.index = raw_clinical.index.str[:-1]"
   ]
  },
  {
   "cell_type": "code",
   "execution_count": 236,
   "id": "c9755e94",
   "metadata": {},
   "outputs": [],
   "source": [
    "mapping_clin = {\"Complete Remission/Response\": 0, \"Progressive Disease\": 1, \n",
    "                \"Partial Remission/Response\": 0, \"Stable Disease\": 0, \"N0\": 0, \"N1\": 1, \n",
    "                \"N1b\": 1, \"NX\": np.nan, \"N3\": 1, \"N2\": 1}"
   ]
  },
  {
   "cell_type": "code",
   "execution_count": 237,
   "id": "606ecb65",
   "metadata": {},
   "outputs": [],
   "source": [
    "binary_pred = raw_clinical[raw_clinical.columns.intersection(clin_predictive)].replace(mapping_clin).rename(columns={\"primary_therapy_outcome_success\": \"Therapy response\", \n",
    "                            \"pathologic_N\": \"Lymph node met.\"})"
   ]
  },
  {
   "cell_type": "code",
   "execution_count": 238,
   "id": "6d3622d7",
   "metadata": {},
   "outputs": [],
   "source": [
    "# purity info\n",
    "purity = pd.read_csv(path_tcga_purity,index_col=0).set_index(\"Sample.ID\")\n",
    "purity_estimate = pd.read_csv(path_tcga_purity_estimate,index_col=0)\n",
    "\n",
    "purity[\"CPE\"] = purity[\"CPE\"].str.replace(\",\",\".\").astype(float)\n",
    "purity.index = purity.index.str[:-1]\n",
    "\n",
    "if cancer_tcga_name in purity[\"Cancer.type\"].unique():\n",
    "    cancer_purity = purity[purity[\"Cancer.type\"]==cancer_tcga_name][[\"CPE\"]].rename(columns={\"CPE\": \"Purity\"})\n",
    "else:\n",
    "    cancer_purity = purity_estimate[purity_estimate[\"cancer_type\"]==cancer_tcga_name][[\"TumorPurity\"]].rename(columns={\"TumorPurity\": \"Purity\"})\n",
    "cancer_purity = cancer_purity.loc[~cancer_purity.index.duplicated()]"
   ]
  },
  {
   "cell_type": "code",
   "execution_count": 239,
   "id": "34350219",
   "metadata": {},
   "outputs": [],
   "source": [
    "# subset to common patients"
   ]
  },
  {
   "cell_type": "code",
   "execution_count": 240,
   "id": "b0334337",
   "metadata": {},
   "outputs": [],
   "source": [
    "common_pat = tcga_expr.index.intersection(surv_info.index)\n",
    "common_pat = common_pat.intersection(cancer_purity.index)\n",
    "common_pat = common_pat.intersection(binary_pred.index)\n",
    "# exclude normal patients\n",
    "common_pat = common_pat[~common_pat.str.endswith(\"10\")]\n",
    "common_pat = common_pat[~common_pat.str.endswith(\"11\")]"
   ]
  },
  {
   "cell_type": "code",
   "execution_count": 241,
   "id": "0e0116c5",
   "metadata": {},
   "outputs": [],
   "source": [
    "tcga_expr = tcga_expr.loc[common_pat]\n",
    "surv_info = surv_info.loc[common_pat]\n",
    "stage = stage.loc[common_pat]\n",
    "age = age.loc[common_pat]\n",
    "cancer_purity = cancer_purity.loc[common_pat]\n",
    "binary_pred = binary_pred.loc[common_pat]"
   ]
  },
  {
   "cell_type": "code",
   "execution_count": 242,
   "id": "fc1fb677",
   "metadata": {},
   "outputs": [],
   "source": [
    "std_expr = (tcga_expr - tcga_expr.mean())/tcga_expr.std()\n",
    "if (stage.isna().sum()/stage.shape[0])>=0.5:\n",
    "    clin = pd.concat([surv_info, age, cancer_purity],axis=1)\n",
    "else:\n",
    "    clin = pd.concat([surv_info, stage, age, cancer_purity],axis=1)\n",
    "clin = clin.dropna()\n",
    "std_expr = std_expr.loc[~std_expr.index.duplicated()]"
   ]
  },
  {
   "cell_type": "code",
   "execution_count": null,
   "id": "4d24ec65",
   "metadata": {},
   "outputs": [],
   "source": []
  },
  {
   "cell_type": "markdown",
   "id": "6f108fef",
   "metadata": {},
   "source": [
    "# Score metasigs"
   ]
  },
  {
   "cell_type": "code",
   "execution_count": 243,
   "id": "e8866dd2-fabf-4e18-8cf5-b2813afdd446",
   "metadata": {},
   "outputs": [],
   "source": [
    "# Helper functions\n",
    "def get_signature_scores(std_expr: pd.DataFrame, metasigs: Dict, method: str, dataset: str, n_sigs: str):\n",
    "    df = metasigs[method][dataset][n_sigs]\n",
    "    score_df = []\n",
    "    for sig in df.columns:\n",
    "        gene_list = df[sig].ravel()\n",
    "        score = std_expr.loc[:,std_expr.columns.intersection(gene_list)].mean(axis=1)\n",
    "        score.name = sig\n",
    "        score_df.append(score)\n",
    "    score_df = pd.concat(score_df,axis=1)\n",
    "    score_df = (score_df - score_df.min())/(score_df.max() - score_df.min())\n",
    "    \n",
    "    return score_df\n",
    "\n",
    "def get_known_signature_scores(std_expr: pd.DataFrame, known_metasigs: Dict, cancer_name: str):\n",
    "    \n",
    "    score_df = []\n",
    "    for sig in known_metasigs[cancer_name]:\n",
    "        gene_list = known_metasigs[cancer_name][sig]\n",
    "        score = std_expr.loc[:,std_expr.columns.intersection(gene_list)].mean(axis=1)\n",
    "        score.name = sig\n",
    "        score_df.append(score)\n",
    "    score_df = pd.concat(score_df,axis=1)\n",
    "    score_df = (score_df - score_df.min())/(score_df.max() - score_df.min())\n",
    "    \n",
    "    return score_df\n",
    "\n",
    "def get_survival_sig(score_df: pd.DataFrame, sig: str, clinmat: pd.DataFrame, corrected: bool= False):\n",
    "    \n",
    "    scores = score_df[sig]\n",
    "    augclin = pd.concat([clin,scores],axis=1)\n",
    "    cph = CoxPHFitter()\n",
    "    if corrected:\n",
    "        if \"Stage\" in augclin.columns:\n",
    "            cph.fit(augclin[[\"OS\",\"OS.time\",sig,\"Purity\",\"Stage\",'Age']].dropna().astype(float), duration_col=\"OS.time\", event_col=\"OS\")\n",
    "        else:\n",
    "            cph.fit(augclin[[\"OS\",\"OS.time\",sig,\"Purity\",'Age']].dropna().astype(float), duration_col=\"OS.time\", event_col=\"OS\")\n",
    "        \n",
    "    else:\n",
    "        cph.fit(augclin[[\"OS\",\"OS.time\",sig]].dropna().astype(float), duration_col=\"OS.time\", event_col=\"OS\")\n",
    "    return cph.summary, cph\n",
    "\n",
    "def get_full_surv_results(score_df: pd.DataFrame, clin: pd.DataFrame, corrected: bool) -> pd.DataFrame:\n",
    "    res_df = []\n",
    "    for s in score_df.columns:\n",
    "        sig_cph, _ = get_survival_sig(score_df, s, clin, corrected=corrected)\n",
    "        sig_cph = sig_cph.rename(index={\"Purity\": f\"Purity_{s}\", \"Age\": f\"Age_{s}\", \"Stage\": f\"Stage_{s}\"})\n",
    "        res_df.append(sig_cph)\n",
    "    res_df = pd.concat(res_df)\n",
    "    \n",
    "    return res_df\n",
    "\n",
    "def get_known_sigs(path: pl.Path) -> Dict:\n",
    "    known_sigs = {}\n",
    "    for k in path.iterdir():\n",
    "        if k.suffix==\".csv\":\n",
    "            known_sigs[k.stem] = pd.read_csv(k).values.ravel()\n",
    "    return known_sigs"
   ]
  },
  {
   "cell_type": "code",
   "execution_count": 244,
   "id": "1a8549fa",
   "metadata": {},
   "outputs": [],
   "source": [
    "metasigs = {}\n",
    "method_path = pl.Path(f\"../results/{cancer_tcga_name.lower()}/metasigs\")\n",
    "\n",
    "for f in method_path.iterdir():\n",
    "    method = f.stem\n",
    "    metasigs[method] = {}\n",
    "    for fold in f.iterdir():\n",
    "\n",
    "        dataset = fold.stem\n",
    "        metasigs[method][dataset] = {}\n",
    "        for sigdir in fold.iterdir():\n",
    "            df = pd.read_csv(sigdir / \"metasigs.csv\")\n",
    "            metasigs[method][dataset][sigdir.stem] = df\n",
    "                            "
   ]
  },
  {
   "cell_type": "code",
   "execution_count": 245,
   "id": "8650ec32",
   "metadata": {},
   "outputs": [],
   "source": [
    "for method in metasigs:\n",
    "    for dataset in metasigs[method]:\n",
    "        for n_sigs in metasigs[method][dataset]:\n",
    "            savedir = benchmark_results_dir / f\"{cancer_tcga_name}/{n_sigs}/{dataset}/{method}\"\n",
    "            os.makedirs(savedir, exist_ok=True)\n",
    "            \n",
    "            score_df = get_signature_scores(std_expr, metasigs, method=method, dataset=dataset, n_sigs=n_sigs)\n",
    "        \n",
    "            corrected_df = get_full_surv_results(score_df=score_df, clin=clin, corrected=True)\n",
    "            corrected_df.to_csv(savedir / \"corrected.csv\")\n",
    "            \n",
    "            uncorrected_df = get_full_surv_results(score_df=score_df, clin=clin, corrected=False)\n",
    "            uncorrected_df.to_csv(savedir / \"uncorrected.csv\")\n",
    "            \n",
    "            "
   ]
  },
  {
   "cell_type": "markdown",
   "id": "cb59d504",
   "metadata": {},
   "source": [
    "# Plot results"
   ]
  },
  {
   "cell_type": "code",
   "execution_count": 246,
   "id": "db92156d",
   "metadata": {},
   "outputs": [],
   "source": [
    "method_mapping = {\"bbknn\": \"BBKNN\", \"scvi\": \"scVI\", \"cca\": \"CCA\", \n",
    "                  \"unintegrated\": \"Unintegrated\", \"genenmf\": \"GeneNMF\", \n",
    "                  \"harmony\": \"Harmony\", \"scalop\": \"scalop\", \"cnmf\": \"GeneNMF\"}"
   ]
  },
  {
   "cell_type": "code",
   "execution_count": 247,
   "id": "4c7cb1d9-b49b-4d3f-9d40-8fcb5fa593df",
   "metadata": {},
   "outputs": [],
   "source": [
    "import yaml\n",
    "def retrieve_results_pvalue_univariate(plot_res_dir: pl.Path, corrected: str, multivariate: bool):\n",
    "    figure_config = yaml.safe_load(open(\"../figures/figures_config.yml\", \"r\"))\n",
    "    \n",
    "    results = {}\n",
    "    for f in plot_res_dir.iterdir():\n",
    "        if f.stem==\".DS_Store\":\n",
    "            continue\n",
    "        n_sigs = f.stem\n",
    "        results[n_sigs] = {}\n",
    "        for dirs in f.iterdir():\n",
    "            if dirs.stem==\".DS_Store\":\n",
    "                continue\n",
    "            dataset = figure_config[\"datasets\"][dirs.stem.replace(\"_all_0\", \"\")]\n",
    "            results[n_sigs][dataset] = {}\n",
    "            for d in dirs.iterdir():\n",
    "                if d.stem!=\".DS_Store\":\n",
    "                    method = d.stem\n",
    "                    if multivariate:\n",
    "                        df = pd.read_csv(d / f\"multivariate_{corrected}.csv\", index_col=0)\n",
    "                    else:\n",
    "                        df = pd.read_csv(d / f\"{corrected}.csv\", index_col=0)\n",
    "                    df = df.loc[df.index.str.startswith(\"Sig.\")]\n",
    "                    \n",
    "                    results[n_sigs][dataset][method_mapping[method]] = df\n",
    "\n",
    "    return results"
   ]
  },
  {
   "cell_type": "markdown",
   "id": "98bf04d2",
   "metadata": {},
   "source": [
    "# Link with survival"
   ]
  },
  {
   "cell_type": "code",
   "execution_count": 248,
   "id": "f06a3eff",
   "metadata": {},
   "outputs": [],
   "source": [
    "\n",
    "plot_res_dir = pl.Path(f\"benchmark_survival_results/{cancer_tcga_name}/\")\n",
    "\n",
    "figdir = pl.Path(\"benchmark_survival_results/figures\")\n",
    "figdir.mkdir(exist_ok=True)"
   ]
  },
  {
   "cell_type": "code",
   "execution_count": 249,
   "id": "51c4e1f8",
   "metadata": {},
   "outputs": [],
   "source": [
    "baselines = {\"LUAD\": {\"GEX\": 0.603, \"Clinical+GEX\": 0.635}, \n",
    "             \"GBM\": {\"GEX\": 0.586, \"Clinical+GEX\": 0.583}}\n",
    "\n",
    "palette = {\"BBKNN\": '#FF4433', \"Harmony\": '#e18632', \"scVI\": '#b59a32', \n",
    "  \"CCA\": '#39a7d6', \"Unintegrated\": '#8f93f4',\n",
    "  \"scalop\": '#db70f4', \"GeneNMF\": '#f667c6', }"
   ]
  },
  {
   "cell_type": "code",
   "execution_count": 250,
   "id": "9083b3fb-bf50-42c1-8dc6-0572790a17c2",
   "metadata": {},
   "outputs": [],
   "source": [
    "\n",
    "\n",
    "from typing import Tuple\n",
    "\n",
    "from matplotlib.patches import Rectangle\n",
    "\n",
    "\n",
    "def get_ds_df(results: Dict) -> Dict:\n",
    "\n",
    "    all_dfs = []\n",
    "\n",
    "    ds_df = {ds: [] for ds in results[list(results.keys())[0]]}\n",
    "\n",
    "    for n_sigs in results:\n",
    "        for ds in results[n_sigs]:\n",
    "            sigs_df = {}\n",
    "            for method in results[n_sigs][ds]:\n",
    "                #maxp = results[n_sigs][ds][method][\"-log2(p)\"].max()\n",
    "                maxp = results[n_sigs][ds][method][\"p\"].apply(lambda x: -np.log10(x)).max()\n",
    "                sigs_df[method] = [maxp]\n",
    "            sigs_df = pd.DataFrame(sigs_df).T\n",
    "            sigs_df.columns = [n_sigs]\n",
    "            ds_df[ds].append(sigs_df)\n",
    "\n",
    "    for ds in ds_df:\n",
    "        ds_df[ds] = pd.concat(ds_df[ds],axis=1)\n",
    "    return ds_df\n",
    "\n",
    "def get_heatmap_univariate_p(results: Dict, n_sigs: List, \n",
    "                             figsize: Tuple[float, float], \n",
    "                             width_ratios: List, vmin: float, vmax:float) -> plt.Figure:\n",
    "    \n",
    "    ds_df = get_ds_df(results)\n",
    "    \n",
    "    mean_rank = []\n",
    "    for ds in ds_df:\n",
    "        mean_rank.append(ds_df[ds][n_sigs].mean(axis=1).rank(ascending=False))\n",
    "\n",
    "    mean_rank = pd.concat(mean_rank,axis=1).mean(axis=1).sort_values()\n",
    "    mean_rank = mean_rank.to_frame()\n",
    "    mean_rank.columns = [\"Avg rank\"]\n",
    "    fig, ax = plt.subplots(1,len(ds_df)+1, figsize=figsize,\n",
    "                           width_ratios=width_ratios)\n",
    "    for i,ds in enumerate(ds_df):\n",
    "        subset = ds_df[ds].loc[mean_rank.index,n_sigs]\n",
    "        cbar_true = False if i<(len(ds_df)-1) else True\n",
    "        sns.heatmap(data=subset, \n",
    "                cmap=\"vlag\", annot=True, \n",
    "                    center=-np.log10(0.05), vmin=vmin, vmax=vmax,\n",
    "                ax=ax[i], cbar=cbar_true)\n",
    "        ax[i].set_title(ds)\n",
    "\n",
    "        if i>0:\n",
    "            ax[i].set_yticks([])\n",
    "            ax[i].set_ylabel(\"\")\n",
    "        else:\n",
    "            _offset = -0.95\n",
    "            n_ticks = subset.shape[0]\n",
    "            for j, method in enumerate(subset.index):\n",
    "                rectangle = Rectangle((_offset, 1 - (j+1)/n_ticks), -_offset, 1/n_ticks, color=palette[method], transform=ax[i].transAxes, clip_on=False)\n",
    "                ax[i].add_patch(rectangle)\n",
    "            ax[i].yaxis.set_ticks_position('none') \n",
    "\n",
    "        sns.heatmap(data=mean_rank, cmap='viridis_r', annot=mean_rank, ax=ax[-1], cbar=False)\n",
    "        ax[-1].set_yticks([])\n",
    "        ax[-1].set_ylabel(\"\")\n",
    "        \n",
    "    return fig\n",
    "\n"
   ]
  },
  {
   "cell_type": "code",
   "execution_count": 251,
   "id": "390cdd77",
   "metadata": {},
   "outputs": [],
   "source": [
    "\n",
    "plot_res_dir = pl.Path(f\"benchmark_survival_results/{cancer_tcga_name}/\")\n",
    "\n",
    "figdir = pl.Path(\"benchmark_survival_results/figures\") "
   ]
  },
  {
   "cell_type": "code",
   "execution_count": 252,
   "id": "2c0a6632",
   "metadata": {},
   "outputs": [],
   "source": [
    "results = retrieve_results_pvalue_univariate(plot_res_dir, corrected=\"uncorrected\", multivariate=False)"
   ]
  },
  {
   "cell_type": "code",
   "execution_count": 253,
   "id": "5a1d3bd4",
   "metadata": {},
   "outputs": [
    {
     "data": {
      "image/png": "[encoded data removed]",
      "text/plain": [
       "<Figure size 950x200 with 7 Axes>"
      ]
     },
     "metadata": {},
     "output_type": "display_data"
    }
   ],
   "source": [
    "if cancer_tcga_name == \"GBM\":\n",
    "    n_sigs=[\"4\",\"5\",\"6\"]\n",
    "    figsize=(9.5,2)\n",
    "    width_ratios = [3,3,3,3,3.75,1]\n",
    "    vmax=3\n",
    "\n",
    "elif cancer_tcga_name == \"LUAD\":\n",
    "    n_sigs=[\"6\",\"7\",\"8\"]\n",
    "    figsize=(6,2)\n",
    "    width_ratios = [3,3,3.75,1]\n",
    "    vmax = 5\n",
    "else: \n",
    "    raise ValueError(\"Unknonw cancer type.\")\n",
    "\n",
    "\n",
    "fig = get_heatmap_univariate_p(results=results, \n",
    "                               n_sigs=n_sigs, \n",
    "                               figsize=figsize,\n",
    "                               width_ratios = width_ratios, vmin=0, vmax=vmax)\n",
    "\n",
    "fig.savefig(figdir / f\"heatmap_univariate_p_{cancer_tcga_name}.svg\", dpi=200, bbox_inches=\"tight\")"
   ]
  },
  {
   "cell_type": "code",
   "execution_count": 254,
   "id": "2e966948",
   "metadata": {},
   "outputs": [
    {
     "data": {
      "text/plain": [
       "['Couturier', 'Wang', 'Yuan', 'Neftel, 10X', 'Neftel, SS2']"
      ]
     },
     "execution_count": 254,
     "metadata": {},
     "output_type": "execute_result"
    }
   ],
   "source": [
    "list(results[\"6\"].keys())"
   ]
  },
  {
   "cell_type": "markdown",
   "id": "1436563a-29de-4028-85f6-6b3d98def2b2",
   "metadata": {},
   "source": [
    "# Link with clinical features"
   ]
  },
  {
   "cell_type": "code",
   "execution_count": 255,
   "id": "6dd30689",
   "metadata": {},
   "outputs": [],
   "source": [
    "method_mapping = {\"bbknn\": \"BBKNN\", \"scvi\": \"scVI\", \"cca\": \"CCA\", \n",
    "                  \"unintegrated\": \"Unintegrated\", \"genenmf\": \"GeneNMF\", \n",
    "                  \"harmony\": \"Harmony\", \"scalop\": \"scalop\", \"cnmf\": \"GeneNMF\"}"
   ]
  },
  {
   "cell_type": "code",
   "execution_count": 256,
   "id": "69bb4d77",
   "metadata": {},
   "outputs": [],
   "source": [
    "def get_ds_df_clinical_link(metasigs: Dict, n_sigs_list: List, std_expr: pd.DataFrame, \n",
    "                           pos_pats: np.ndarray, neg_pats: np.ndarray) -> Dict:\n",
    "\n",
    "    ds_df = {ds: pd.DataFrame(index=list(metasigs.keys()),columns=n_sigs_list) for ds in metasigs[list(metasigs.keys())[0]]}\n",
    "\n",
    "    for method in metasigs:\n",
    "        for ds in metasigs[method]:\n",
    "            for n_sigs in n_sigs_list:\n",
    "                score_df = get_signature_scores(std_expr, metasigs, method=method, \n",
    "                                                dataset=ds, n_sigs=n_sigs)\n",
    "\n",
    "                ps = []\n",
    "                for sig in score_df.columns:\n",
    "                    p = kruskal(score_df.loc[pos_pats,sig], score_df.loc[neg_pats,sig])[1]\n",
    "                    ps.append(p)\n",
    "                ds_df[ds].loc[method,n_sigs] = -np.log10(np.min(ps))\n",
    "\n",
    "    ds_df = {ds: ds_df[ds].rename(index=method_mapping) for ds in ds_df}\n",
    "    return ds_df\n",
    "\n",
    "def get_heatmap_link_clinical(ds_df: Dict[str, pd.DataFrame], \n",
    "                              figsize: Tuple[float, float], width_ratios: List, \n",
    "                              vmin: float, vmax: float) -> plt.Figure:\n",
    "    mean_rank = []\n",
    "    for ds in ds_df:\n",
    "        mean_rank.append(ds_df[ds].mean(axis=1).rank(ascending=False))\n",
    "\n",
    "    mean_rank = pd.concat(mean_rank,axis=1).mean(axis=1).sort_values()\n",
    "    mean_rank = mean_rank.to_frame()\n",
    "    mean_rank.columns = [\"Avg rank\"]\n",
    "\n",
    "\n",
    "    fig, ax = plt.subplots(1,len(ds_df)+1, figsize=figsize,\n",
    "                           width_ratios=width_ratios)\n",
    "    for i,ds in enumerate(ds_df):\n",
    "        subset = ds_df[ds].loc[mean_rank.index].astype(float)\n",
    "        cbar_true = False if i<(len(ds_df)-1) else True\n",
    "        sns.heatmap(data=subset, \n",
    "                cmap=\"vlag\", annot=True, \n",
    "                    vmin=vmin, vmax=vmax, center=-np.log10(0.05),\n",
    "                ax=ax[i], cbar=cbar_true)\n",
    "        ax[i].set_title(f\"{ds}\")\n",
    "\n",
    "        if i>0:\n",
    "            ax[i].set_yticks([])\n",
    "            ax[i].set_ylabel(\"\")\n",
    "        else:\n",
    "            _offset = -0.95\n",
    "            n_ticks = subset.shape[0]\n",
    "            for j, method in enumerate(subset.index):\n",
    "                rectangle = Rectangle((_offset, 1 - (j+1)/n_ticks), -_offset, 1/n_ticks, color=palette[method], transform=ax[i].transAxes, clip_on=False)\n",
    "                ax[i].add_patch(rectangle)\n",
    "            ax[i].yaxis.set_ticks_position('none') \n",
    "\n",
    "        sns.heatmap(data=mean_rank, cmap='viridis_r', annot=mean_rank, ax=ax[-1], cbar=False)\n",
    "        ax[-1].set_yticks([])\n",
    "        ax[-1].set_ylabel(\"\")\n",
    "    return fig"
   ]
  },
  {
   "cell_type": "code",
   "execution_count": 257,
   "id": "a425fba6",
   "metadata": {
    "scrolled": true
   },
   "outputs": [
    {
     "name": "stdout",
     "output_type": "stream",
     "text": [
      "Therapy response\n"
     ]
    },
    {
     "name": "stderr",
     "output_type": "stream",
     "text": [
      "/home/fbarkmann/miniforge3/envs/cansig-benchmark/lib/python3.11/site-packages/seaborn/matrix.py:202: RuntimeWarning: All-NaN slice encountered\n",
      "  vmin = np.nanmin(calc_data)\n",
      "/home/fbarkmann/miniforge3/envs/cansig-benchmark/lib/python3.11/site-packages/seaborn/matrix.py:207: RuntimeWarning: All-NaN slice encountered\n",
      "  vmax = np.nanmax(calc_data)\n",
      "/home/fbarkmann/miniforge3/envs/cansig-benchmark/lib/python3.11/site-packages/seaborn/matrix.py:202: RuntimeWarning: All-NaN slice encountered\n",
      "  vmin = np.nanmin(calc_data)\n",
      "/home/fbarkmann/miniforge3/envs/cansig-benchmark/lib/python3.11/site-packages/seaborn/matrix.py:207: RuntimeWarning: All-NaN slice encountered\n",
      "  vmax = np.nanmax(calc_data)\n",
      "/home/fbarkmann/miniforge3/envs/cansig-benchmark/lib/python3.11/site-packages/seaborn/matrix.py:202: RuntimeWarning: All-NaN slice encountered\n",
      "  vmin = np.nanmin(calc_data)\n",
      "/home/fbarkmann/miniforge3/envs/cansig-benchmark/lib/python3.11/site-packages/seaborn/matrix.py:207: RuntimeWarning: All-NaN slice encountered\n",
      "  vmax = np.nanmax(calc_data)\n",
      "/home/fbarkmann/miniforge3/envs/cansig-benchmark/lib/python3.11/site-packages/seaborn/matrix.py:202: RuntimeWarning: All-NaN slice encountered\n",
      "  vmin = np.nanmin(calc_data)\n",
      "/home/fbarkmann/miniforge3/envs/cansig-benchmark/lib/python3.11/site-packages/seaborn/matrix.py:207: RuntimeWarning: All-NaN slice encountered\n",
      "  vmax = np.nanmax(calc_data)\n",
      "/home/fbarkmann/miniforge3/envs/cansig-benchmark/lib/python3.11/site-packages/seaborn/matrix.py:202: RuntimeWarning: All-NaN slice encountered\n",
      "  vmin = np.nanmin(calc_data)\n",
      "/home/fbarkmann/miniforge3/envs/cansig-benchmark/lib/python3.11/site-packages/seaborn/matrix.py:207: RuntimeWarning: All-NaN slice encountered\n",
      "  vmax = np.nanmax(calc_data)\n"
     ]
    },
    {
     "data": {
      "image/png": "[encoded data removed]",
      "text/plain": [
       "<Figure size 950x200 with 7 Axes>"
      ]
     },
     "metadata": {},
     "output_type": "display_data"
    }
   ],
   "source": [
    "figure_config = yaml.safe_load(open(\"../figures/figures_config.yml\", \"r\"))\n",
    "\n",
    "\n",
    "if cancer_tcga_name == \"GBM\":\n",
    "    n_sigs=[\"4\",\"5\",\"6\"]\n",
    "    figsize=(9.5,2)\n",
    "    width_ratios = [3,3,3,3,3.75,1]\n",
    "    vmax=3\n",
    "\n",
    "elif cancer_tcga_name == \"LUAD\":\n",
    "    n_sigs=[\"6\",\"7\",\"8\"]\n",
    "    figsize=(6,2)\n",
    "    width_ratios = [3,3,3.75,1]\n",
    "    vmax = 5\n",
    "else: \n",
    "    raise ValueError(\"Unknonw cancer type.\")\n",
    "\n",
    "for clin_link in binary_pred.columns:\n",
    "    print(clin_link)\n",
    "    pos_pats = binary_pred[binary_pred[clin_link]==1].index.to_numpy()\n",
    "    neg_pats = binary_pred[binary_pred[clin_link]==0].index.to_numpy()\n",
    "\n",
    "    ds_df = get_ds_df_clinical_link(metasigs=metasigs, n_sigs_list=n_sigs, \n",
    "                                    std_expr=std_expr, \n",
    "                                   pos_pats=pos_pats, neg_pats=neg_pats)\n",
    "    ds_df = {figure_config[\"datasets\"][key.replace(\"_all_0\", \"\")]: value for key, value in ds_df.items()}\n",
    "    fig = get_heatmap_link_clinical(ds_df=ds_df, \n",
    "                                  figsize=figsize, width_ratios=width_ratios, \n",
    "                                  vmin=0, vmax=5)\n",
    "    fig.savefig(figdir / f\"clinical_heatmap_{clin_link}_{cancer_tcga_name}_log10p.svg\", dpi=200, bbox_inches=\"tight\")"
   ]
  },
  {
   "cell_type": "code",
   "execution_count": null,
   "id": "4a9c7d35",
   "metadata": {},
   "outputs": [],
   "source": []
  },
  {
   "cell_type": "code",
   "execution_count": null,
   "id": "7f984f7f",
   "metadata": {},
   "outputs": [],
   "source": []
  },
  {
   "cell_type": "code",
   "execution_count": null,
   "id": "4f6a9e48",
   "metadata": {},
   "outputs": [],
   "source": []
  },
  {
   "cell_type": "code",
   "execution_count": null,
   "id": "bf5ef894",
   "metadata": {},
   "outputs": [],
   "source": []
  }
 ],
 "metadata": {
  "kernelspec": {
   "display_name": "cansig-benchmark",
   "language": "python",
   "name": "python3"
  },
  "language_info": {
   "codemirror_mode": {
    "name": "ipython",
    "version": 3
   },
   "file_extension": ".py",
   "mimetype": "text/x-python",
   "name": "python",
   "nbconvert_exporter": "python",
   "pygments_lexer": "ipython3",
   "version": "3.11.5"
  }
 },
 "nbformat": 4,
 "nbformat_minor": 5
}
